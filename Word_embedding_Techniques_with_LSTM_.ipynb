{
  "nbformat": 4,
  "nbformat_minor": 0,
  "metadata": {
    "colab": {
      "name": "Word embedding Techniques with LSTM .ipynb",
      "provenance": [],
      "authorship_tag": "ABX9TyNrYGIuba3ZvdbVI41e7uWJ",
      "include_colab_link": true
    },
    "kernelspec": {
      "name": "python3",
      "display_name": "Python 3"
    },
    "language_info": {
      "name": "python"
    }
  },
  "cells": [
    {
      "cell_type": "markdown",
      "metadata": {
        "id": "view-in-github",
        "colab_type": "text"
      },
      "source": [
        "<a href=\"https://colab.research.google.com/github/Alexiserges/Word-embedding-Techniques-with-LSTM/blob/main/Word_embedding_Techniques_with_LSTM_.ipynb\" target=\"_parent\"><img src=\"https://colab.research.google.com/assets/colab-badge.svg\" alt=\"Open In Colab\"/></a>"
      ]
    },
    {
      "cell_type": "code",
      "execution_count": 1,
      "metadata": {
        "id": "gkJOYe1-jpgq"
      },
      "outputs": [],
      "source": [
        "#The attached files are my daily lesson plan of 12/07/2022\n",
        "\n",
        "#Thank you."
      ]
    },
    {
      "cell_type": "code",
      "source": [
        "!pip install tensorflow-gpu"
      ],
      "metadata": {
        "colab": {
          "base_uri": "https://localhost:8080/"
        },
        "id": "bmSNNEpbj_iI",
        "outputId": "3c01f696-264b-42da-c38a-4fd6222f3fc7"
      },
      "execution_count": 2,
      "outputs": [
        {
          "output_type": "stream",
          "name": "stdout",
          "text": [
            "Looking in indexes: https://pypi.org/simple, https://us-python.pkg.dev/colab-wheels/public/simple/\n",
            "Collecting tensorflow-gpu\n",
            "  Downloading tensorflow_gpu-2.9.1-cp37-cp37m-manylinux_2_17_x86_64.manylinux2014_x86_64.whl (511.7 MB)\n",
            "\u001b[K     |████████████████████████████████| 511.7 MB 5.7 kB/s \n",
            "\u001b[?25hRequirement already satisfied: absl-py>=1.0.0 in /usr/local/lib/python3.7/dist-packages (from tensorflow-gpu) (1.1.0)\n",
            "Collecting tensorboard<2.10,>=2.9\n",
            "  Downloading tensorboard-2.9.1-py3-none-any.whl (5.8 MB)\n",
            "\u001b[K     |████████████████████████████████| 5.8 MB 41.7 MB/s \n",
            "\u001b[?25hRequirement already satisfied: numpy>=1.20 in /usr/local/lib/python3.7/dist-packages (from tensorflow-gpu) (1.21.6)\n",
            "Requirement already satisfied: google-pasta>=0.1.1 in /usr/local/lib/python3.7/dist-packages (from tensorflow-gpu) (0.2.0)\n",
            "Requirement already satisfied: protobuf<3.20,>=3.9.2 in /usr/local/lib/python3.7/dist-packages (from tensorflow-gpu) (3.17.3)\n",
            "Requirement already satisfied: libclang>=13.0.0 in /usr/local/lib/python3.7/dist-packages (from tensorflow-gpu) (14.0.1)\n",
            "Requirement already satisfied: typing-extensions>=3.6.6 in /usr/local/lib/python3.7/dist-packages (from tensorflow-gpu) (4.1.1)\n",
            "Requirement already satisfied: grpcio<2.0,>=1.24.3 in /usr/local/lib/python3.7/dist-packages (from tensorflow-gpu) (1.47.0)\n",
            "Requirement already satisfied: six>=1.12.0 in /usr/local/lib/python3.7/dist-packages (from tensorflow-gpu) (1.15.0)\n",
            "Requirement already satisfied: tensorflow-io-gcs-filesystem>=0.23.1 in /usr/local/lib/python3.7/dist-packages (from tensorflow-gpu) (0.26.0)\n",
            "Requirement already satisfied: termcolor>=1.1.0 in /usr/local/lib/python3.7/dist-packages (from tensorflow-gpu) (1.1.0)\n",
            "Requirement already satisfied: h5py>=2.9.0 in /usr/local/lib/python3.7/dist-packages (from tensorflow-gpu) (3.1.0)\n",
            "Collecting flatbuffers<2,>=1.12\n",
            "  Downloading flatbuffers-1.12-py2.py3-none-any.whl (15 kB)\n",
            "Requirement already satisfied: keras-preprocessing>=1.1.1 in /usr/local/lib/python3.7/dist-packages (from tensorflow-gpu) (1.1.2)\n",
            "Requirement already satisfied: astunparse>=1.6.0 in /usr/local/lib/python3.7/dist-packages (from tensorflow-gpu) (1.6.3)\n",
            "Requirement already satisfied: opt-einsum>=2.3.2 in /usr/local/lib/python3.7/dist-packages (from tensorflow-gpu) (3.3.0)\n",
            "Requirement already satisfied: setuptools in /usr/local/lib/python3.7/dist-packages (from tensorflow-gpu) (57.4.0)\n",
            "Requirement already satisfied: wrapt>=1.11.0 in /usr/local/lib/python3.7/dist-packages (from tensorflow-gpu) (1.14.1)\n",
            "Collecting keras<2.10.0,>=2.9.0rc0\n",
            "  Downloading keras-2.9.0-py2.py3-none-any.whl (1.6 MB)\n",
            "\u001b[K     |████████████████████████████████| 1.6 MB 50.2 MB/s \n",
            "\u001b[?25hCollecting gast<=0.4.0,>=0.2.1\n",
            "  Downloading gast-0.4.0-py3-none-any.whl (9.8 kB)\n",
            "Requirement already satisfied: packaging in /usr/local/lib/python3.7/dist-packages (from tensorflow-gpu) (21.3)\n",
            "Collecting tensorflow-estimator<2.10.0,>=2.9.0rc0\n",
            "  Downloading tensorflow_estimator-2.9.0-py2.py3-none-any.whl (438 kB)\n",
            "\u001b[K     |████████████████████████████████| 438 kB 71.7 MB/s \n",
            "\u001b[?25hRequirement already satisfied: wheel<1.0,>=0.23.0 in /usr/local/lib/python3.7/dist-packages (from astunparse>=1.6.0->tensorflow-gpu) (0.37.1)\n",
            "Requirement already satisfied: cached-property in /usr/local/lib/python3.7/dist-packages (from h5py>=2.9.0->tensorflow-gpu) (1.5.2)\n",
            "Requirement already satisfied: google-auth<3,>=1.6.3 in /usr/local/lib/python3.7/dist-packages (from tensorboard<2.10,>=2.9->tensorflow-gpu) (1.35.0)\n",
            "Requirement already satisfied: tensorboard-plugin-wit>=1.6.0 in /usr/local/lib/python3.7/dist-packages (from tensorboard<2.10,>=2.9->tensorflow-gpu) (1.8.1)\n",
            "Requirement already satisfied: werkzeug>=1.0.1 in /usr/local/lib/python3.7/dist-packages (from tensorboard<2.10,>=2.9->tensorflow-gpu) (1.0.1)\n",
            "Requirement already satisfied: google-auth-oauthlib<0.5,>=0.4.1 in /usr/local/lib/python3.7/dist-packages (from tensorboard<2.10,>=2.9->tensorflow-gpu) (0.4.6)\n",
            "Requirement already satisfied: requests<3,>=2.21.0 in /usr/local/lib/python3.7/dist-packages (from tensorboard<2.10,>=2.9->tensorflow-gpu) (2.23.0)\n",
            "Requirement already satisfied: markdown>=2.6.8 in /usr/local/lib/python3.7/dist-packages (from tensorboard<2.10,>=2.9->tensorflow-gpu) (3.3.7)\n",
            "Requirement already satisfied: tensorboard-data-server<0.7.0,>=0.6.0 in /usr/local/lib/python3.7/dist-packages (from tensorboard<2.10,>=2.9->tensorflow-gpu) (0.6.1)\n",
            "Requirement already satisfied: pyasn1-modules>=0.2.1 in /usr/local/lib/python3.7/dist-packages (from google-auth<3,>=1.6.3->tensorboard<2.10,>=2.9->tensorflow-gpu) (0.2.8)\n",
            "Requirement already satisfied: rsa<5,>=3.1.4 in /usr/local/lib/python3.7/dist-packages (from google-auth<3,>=1.6.3->tensorboard<2.10,>=2.9->tensorflow-gpu) (4.8)\n",
            "Requirement already satisfied: cachetools<5.0,>=2.0.0 in /usr/local/lib/python3.7/dist-packages (from google-auth<3,>=1.6.3->tensorboard<2.10,>=2.9->tensorflow-gpu) (4.2.4)\n",
            "Requirement already satisfied: requests-oauthlib>=0.7.0 in /usr/local/lib/python3.7/dist-packages (from google-auth-oauthlib<0.5,>=0.4.1->tensorboard<2.10,>=2.9->tensorflow-gpu) (1.3.1)\n",
            "Requirement already satisfied: importlib-metadata>=4.4 in /usr/local/lib/python3.7/dist-packages (from markdown>=2.6.8->tensorboard<2.10,>=2.9->tensorflow-gpu) (4.12.0)\n",
            "Requirement already satisfied: zipp>=0.5 in /usr/local/lib/python3.7/dist-packages (from importlib-metadata>=4.4->markdown>=2.6.8->tensorboard<2.10,>=2.9->tensorflow-gpu) (3.8.0)\n",
            "Requirement already satisfied: pyasn1<0.5.0,>=0.4.6 in /usr/local/lib/python3.7/dist-packages (from pyasn1-modules>=0.2.1->google-auth<3,>=1.6.3->tensorboard<2.10,>=2.9->tensorflow-gpu) (0.4.8)\n",
            "Requirement already satisfied: chardet<4,>=3.0.2 in /usr/local/lib/python3.7/dist-packages (from requests<3,>=2.21.0->tensorboard<2.10,>=2.9->tensorflow-gpu) (3.0.4)\n",
            "Requirement already satisfied: urllib3!=1.25.0,!=1.25.1,<1.26,>=1.21.1 in /usr/local/lib/python3.7/dist-packages (from requests<3,>=2.21.0->tensorboard<2.10,>=2.9->tensorflow-gpu) (1.24.3)\n",
            "Requirement already satisfied: certifi>=2017.4.17 in /usr/local/lib/python3.7/dist-packages (from requests<3,>=2.21.0->tensorboard<2.10,>=2.9->tensorflow-gpu) (2022.6.15)\n",
            "Requirement already satisfied: idna<3,>=2.5 in /usr/local/lib/python3.7/dist-packages (from requests<3,>=2.21.0->tensorboard<2.10,>=2.9->tensorflow-gpu) (2.10)\n",
            "Requirement already satisfied: oauthlib>=3.0.0 in /usr/local/lib/python3.7/dist-packages (from requests-oauthlib>=0.7.0->google-auth-oauthlib<0.5,>=0.4.1->tensorboard<2.10,>=2.9->tensorflow-gpu) (3.2.0)\n",
            "Requirement already satisfied: pyparsing!=3.0.5,>=2.0.2 in /usr/local/lib/python3.7/dist-packages (from packaging->tensorflow-gpu) (3.0.9)\n",
            "Installing collected packages: tensorflow-estimator, tensorboard, keras, gast, flatbuffers, tensorflow-gpu\n",
            "  Attempting uninstall: tensorflow-estimator\n",
            "    Found existing installation: tensorflow-estimator 2.8.0\n",
            "    Uninstalling tensorflow-estimator-2.8.0:\n",
            "      Successfully uninstalled tensorflow-estimator-2.8.0\n",
            "  Attempting uninstall: tensorboard\n",
            "    Found existing installation: tensorboard 2.8.0\n",
            "    Uninstalling tensorboard-2.8.0:\n",
            "      Successfully uninstalled tensorboard-2.8.0\n",
            "  Attempting uninstall: keras\n",
            "    Found existing installation: keras 2.8.0\n",
            "    Uninstalling keras-2.8.0:\n",
            "      Successfully uninstalled keras-2.8.0\n",
            "  Attempting uninstall: gast\n",
            "    Found existing installation: gast 0.5.3\n",
            "    Uninstalling gast-0.5.3:\n",
            "      Successfully uninstalled gast-0.5.3\n",
            "  Attempting uninstall: flatbuffers\n",
            "    Found existing installation: flatbuffers 2.0\n",
            "    Uninstalling flatbuffers-2.0:\n",
            "      Successfully uninstalled flatbuffers-2.0\n",
            "\u001b[31mERROR: pip's dependency resolver does not currently take into account all the packages that are installed. This behaviour is the source of the following dependency conflicts.\n",
            "tensorflow 2.8.2+zzzcolab20220629235552 requires keras<2.9,>=2.8.0rc0, but you have keras 2.9.0 which is incompatible.\n",
            "tensorflow 2.8.2+zzzcolab20220629235552 requires tensorboard<2.9,>=2.8, but you have tensorboard 2.9.1 which is incompatible.\n",
            "tensorflow 2.8.2+zzzcolab20220629235552 requires tensorflow-estimator<2.9,>=2.8, but you have tensorflow-estimator 2.9.0 which is incompatible.\u001b[0m\n",
            "Successfully installed flatbuffers-1.12 gast-0.4.0 keras-2.9.0 tensorboard-2.9.1 tensorflow-estimator-2.9.0 tensorflow-gpu-2.9.1\n"
          ]
        }
      ]
    },
    {
      "cell_type": "code",
      "source": [
        "import tensorflow as tf\n",
        "print(tf.__version__)"
      ],
      "metadata": {
        "colab": {
          "base_uri": "https://localhost:8080/"
        },
        "id": "vwU3wSqRj_e7",
        "outputId": "69382ffd-388a-434e-d01f-b107fb585365"
      },
      "execution_count": 3,
      "outputs": [
        {
          "output_type": "stream",
          "name": "stdout",
          "text": [
            "2.9.1\n"
          ]
        }
      ]
    },
    {
      "cell_type": "code",
      "source": [
        "##tensorflow >2.0\n",
        "from tensorflow.keras.preprocessing.text import one_hot"
      ],
      "metadata": {
        "id": "sBx2epiDj_bj"
      },
      "execution_count": 4,
      "outputs": []
    },
    {
      "cell_type": "code",
      "source": [
        "### sentences\n",
        "sent=['The word is a better place',\n",
        "     'Marvel series is my favourite movie',\n",
        "     'I like DC movies',\n",
        "    'The cat is eating the food',\n",
        "     'Tom and jerry is my favourite movie',\n",
        "     'Python is my suitable programming language',\n",
        "     'I want to build my network in data science']"
      ],
      "metadata": {
        "id": "VWVEOJvvj_YE"
      },
      "execution_count": 5,
      "outputs": []
    },
    {
      "cell_type": "code",
      "source": [
        "sent"
      ],
      "metadata": {
        "colab": {
          "base_uri": "https://localhost:8080/"
        },
        "id": "yZMf8pIlj_Vo",
        "outputId": "b8a34cf2-589e-463f-f0cf-09214110dd70"
      },
      "execution_count": 6,
      "outputs": [
        {
          "output_type": "execute_result",
          "data": {
            "text/plain": [
              "['The word is a better place',\n",
              " 'Marvel series is my favourite movie',\n",
              " 'I like DC movies',\n",
              " 'The cat is eating the food',\n",
              " 'Tom and jerry is my favourite movie',\n",
              " 'Python is my suitable programming language',\n",
              " 'I want to build my network in data science']"
            ]
          },
          "metadata": {},
          "execution_count": 6
        }
      ]
    },
    {
      "cell_type": "code",
      "source": [
        "### Vocabulary size\n",
        "voc_size=800"
      ],
      "metadata": {
        "id": "yxp4-Vpmj_Sv"
      },
      "execution_count": 7,
      "outputs": []
    },
    {
      "cell_type": "markdown",
      "source": [
        "###One Hot Representation"
      ],
      "metadata": {
        "id": "xqFgJ2KZmPdL"
      }
    },
    {
      "cell_type": "code",
      "source": [
        "onehot_repr=[one_hot(words,voc_size)for words in sent] \n",
        "print(onehot_repr)"
      ],
      "metadata": {
        "colab": {
          "base_uri": "https://localhost:8080/"
        },
        "id": "Y3R82JCuj_OM",
        "outputId": "acb654a7-bb83-4960-8904-abcecac6885e"
      },
      "execution_count": 8,
      "outputs": [
        {
          "output_type": "stream",
          "name": "stdout",
          "text": [
            "[[227, 76, 530, 314, 689, 670], [750, 220, 530, 738, 255, 53], [14, 727, 159, 17], [227, 796, 530, 595, 227, 788], [619, 269, 309, 530, 738, 255, 53], [728, 530, 738, 123, 275, 285], [14, 269, 384, 712, 738, 467, 511, 244, 410]]\n"
          ]
        }
      ]
    },
    {
      "cell_type": "markdown",
      "source": [
        "###Word Embedding Represntation"
      ],
      "metadata": {
        "id": "hJf96mR4m_hk"
      }
    },
    {
      "cell_type": "code",
      "source": [
        "from tensorflow.keras.layers import Embedding\n",
        "from tensorflow.keras.preprocessing.sequence import pad_sequences\n",
        "from tensorflow.keras.models import Sequential"
      ],
      "metadata": {
        "id": "eo-zDfoRj_JT"
      },
      "execution_count": 9,
      "outputs": []
    },
    {
      "cell_type": "code",
      "source": [
        "import numpy as np"
      ],
      "metadata": {
        "id": "zj_PJ944nE91"
      },
      "execution_count": 10,
      "outputs": []
    },
    {
      "cell_type": "code",
      "source": [
        "## pre padding\n",
        "sent_length=9\n",
        "embedded_docs=pad_sequences(onehot_repr,padding='pre',maxlen=sent_length)\n",
        "print(embedded_docs)"
      ],
      "metadata": {
        "colab": {
          "base_uri": "https://localhost:8080/"
        },
        "id": "nNtf9EYqnE6m",
        "outputId": "f3ed3702-46da-4a80-b7d0-2cfabc5f0892"
      },
      "execution_count": 13,
      "outputs": [
        {
          "output_type": "stream",
          "name": "stdout",
          "text": [
            "[[  0   0   0 227  76 530 314 689 670]\n",
            " [  0   0   0 750 220 530 738 255  53]\n",
            " [  0   0   0   0   0  14 727 159  17]\n",
            " [  0   0   0 227 796 530 595 227 788]\n",
            " [  0   0 619 269 309 530 738 255  53]\n",
            " [  0   0   0 728 530 738 123 275 285]\n",
            " [ 14 269 384 712 738 467 511 244 410]]\n"
          ]
        }
      ]
    },
    {
      "cell_type": "code",
      "source": [
        "## 10 feature dimesnions\n",
        "dim=10\n"
      ],
      "metadata": {
        "id": "0NSX27tWnE2e"
      },
      "execution_count": 14,
      "outputs": []
    },
    {
      "cell_type": "code",
      "source": [
        "model=Sequential()\n",
        "model.add(Embedding(voc_size,10,input_length=sent_length))\n",
        "model.compile('adam','mse')"
      ],
      "metadata": {
        "id": "evto_OQ5nExp"
      },
      "execution_count": 15,
      "outputs": []
    },
    {
      "cell_type": "code",
      "source": [
        "model.summary()"
      ],
      "metadata": {
        "colab": {
          "base_uri": "https://localhost:8080/"
        },
        "id": "Fqs_jM-xnEtK",
        "outputId": "0cb75164-0bbf-4484-d61c-963bcb4888e5"
      },
      "execution_count": 16,
      "outputs": [
        {
          "output_type": "stream",
          "name": "stdout",
          "text": [
            "Model: \"sequential\"\n",
            "_________________________________________________________________\n",
            " Layer (type)                Output Shape              Param #   \n",
            "=================================================================\n",
            " embedding (Embedding)       (None, 9, 10)             8000      \n",
            "                                                                 \n",
            "=================================================================\n",
            "Total params: 8,000\n",
            "Trainable params: 8,000\n",
            "Non-trainable params: 0\n",
            "_________________________________________________________________\n"
          ]
        }
      ]
    },
    {
      "cell_type": "code",
      "source": [
        "##'The word is a better place',\n",
        "embedded_docs[0]"
      ],
      "metadata": {
        "colab": {
          "base_uri": "https://localhost:8080/"
        },
        "id": "lPjsK7BFnEop",
        "outputId": "c17baf76-b819-45b8-b92e-fa0f550cac9e"
      },
      "execution_count": 17,
      "outputs": [
        {
          "output_type": "execute_result",
          "data": {
            "text/plain": [
              "array([  0,   0,   0, 227,  76, 530, 314, 689, 670], dtype=int32)"
            ]
          },
          "metadata": {},
          "execution_count": 17
        }
      ]
    },
    {
      "cell_type": "code",
      "source": [
        "model.predict(embedded_docs[0])"
      ],
      "metadata": {
        "colab": {
          "base_uri": "https://localhost:8080/"
        },
        "id": "S5orG89NnEd7",
        "outputId": "14afbc7f-f7c2-4389-d320-12da1ab418c1"
      },
      "execution_count": 18,
      "outputs": [
        {
          "output_type": "stream",
          "name": "stdout",
          "text": [
            "WARNING:tensorflow:Model was constructed with shape (None, 9) for input KerasTensor(type_spec=TensorSpec(shape=(None, 9), dtype=tf.float32, name='embedding_input'), name='embedding_input', description=\"created by layer 'embedding_input'\"), but it was called on an input with incompatible shape (None,).\n",
            "1/1 [==============================] - 0s 102ms/step\n"
          ]
        },
        {
          "output_type": "execute_result",
          "data": {
            "text/plain": [
              "array([[-0.035059  ,  0.04403411, -0.00231515,  0.01556463,  0.01342452,\n",
              "        -0.02428705,  0.04382536, -0.00162061,  0.0293929 ,  0.03303542],\n",
              "       [-0.035059  ,  0.04403411, -0.00231515,  0.01556463,  0.01342452,\n",
              "        -0.02428705,  0.04382536, -0.00162061,  0.0293929 ,  0.03303542],\n",
              "       [-0.035059  ,  0.04403411, -0.00231515,  0.01556463,  0.01342452,\n",
              "        -0.02428705,  0.04382536, -0.00162061,  0.0293929 ,  0.03303542],\n",
              "       [-0.03562839,  0.00521716,  0.0192288 , -0.01612967,  0.04289402,\n",
              "        -0.00330611,  0.04157707, -0.03659555, -0.00373067, -0.00627972],\n",
              "       [-0.01198177, -0.00477816, -0.04007648, -0.01684242, -0.03810278,\n",
              "        -0.04799842, -0.0241154 , -0.0251549 , -0.02634882, -0.02636769],\n",
              "       [ 0.04490879,  0.01277279,  0.03271898,  0.03500445,  0.02245596,\n",
              "        -0.04923625,  0.03671182, -0.04704349, -0.04409503,  0.03213454],\n",
              "       [-0.03812807, -0.04719676, -0.04788455, -0.03579825, -0.02163421,\n",
              "         0.00143287,  0.04497642,  0.0415324 ,  0.03567794,  0.01500242],\n",
              "       [ 0.0226511 ,  0.00958524, -0.02014425,  0.03147065,  0.02279112,\n",
              "         0.03906653, -0.02954812,  0.03325755, -0.04951673, -0.024412  ],\n",
              "       [-0.00261412,  0.04350399,  0.03840456, -0.04705643, -0.01124763,\n",
              "         0.0119473 ,  0.02782622,  0.02098972, -0.04844403, -0.04501213]],\n",
              "      dtype=float32)"
            ]
          },
          "metadata": {},
          "execution_count": 18
        }
      ]
    },
    {
      "cell_type": "code",
      "source": [
        "print(model.predict(embedded_docs))"
      ],
      "metadata": {
        "colab": {
          "base_uri": "https://localhost:8080/"
        },
        "id": "JsQEFP_ej_Es",
        "outputId": "5bbdb721-1724-4024-f194-cf8dbb0beec6"
      },
      "execution_count": 19,
      "outputs": [
        {
          "output_type": "stream",
          "name": "stdout",
          "text": [
            "1/1 [==============================] - 0s 37ms/step\n",
            "[[[-0.035059    0.04403411 -0.00231515  0.01556463  0.01342452\n",
            "   -0.02428705  0.04382536 -0.00162061  0.0293929   0.03303542]\n",
            "  [-0.035059    0.04403411 -0.00231515  0.01556463  0.01342452\n",
            "   -0.02428705  0.04382536 -0.00162061  0.0293929   0.03303542]\n",
            "  [-0.035059    0.04403411 -0.00231515  0.01556463  0.01342452\n",
            "   -0.02428705  0.04382536 -0.00162061  0.0293929   0.03303542]\n",
            "  [-0.03562839  0.00521716  0.0192288  -0.01612967  0.04289402\n",
            "   -0.00330611  0.04157707 -0.03659555 -0.00373067 -0.00627972]\n",
            "  [-0.01198177 -0.00477816 -0.04007648 -0.01684242 -0.03810278\n",
            "   -0.04799842 -0.0241154  -0.0251549  -0.02634882 -0.02636769]\n",
            "  [ 0.04490879  0.01277279  0.03271898  0.03500445  0.02245596\n",
            "   -0.04923625  0.03671182 -0.04704349 -0.04409503  0.03213454]\n",
            "  [-0.03812807 -0.04719676 -0.04788455 -0.03579825 -0.02163421\n",
            "    0.00143287  0.04497642  0.0415324   0.03567794  0.01500242]\n",
            "  [ 0.0226511   0.00958524 -0.02014425  0.03147065  0.02279112\n",
            "    0.03906653 -0.02954812  0.03325755 -0.04951673 -0.024412  ]\n",
            "  [-0.00261412  0.04350399  0.03840456 -0.04705643 -0.01124763\n",
            "    0.0119473   0.02782622  0.02098972 -0.04844403 -0.04501213]]\n",
            "\n",
            " [[-0.035059    0.04403411 -0.00231515  0.01556463  0.01342452\n",
            "   -0.02428705  0.04382536 -0.00162061  0.0293929   0.03303542]\n",
            "  [-0.035059    0.04403411 -0.00231515  0.01556463  0.01342452\n",
            "   -0.02428705  0.04382536 -0.00162061  0.0293929   0.03303542]\n",
            "  [-0.035059    0.04403411 -0.00231515  0.01556463  0.01342452\n",
            "   -0.02428705  0.04382536 -0.00162061  0.0293929   0.03303542]\n",
            "  [ 0.04947848 -0.02286996  0.03900622 -0.01273904  0.04587033\n",
            "   -0.02746439  0.03628151  0.02997667  0.0236164   0.03106954]\n",
            "  [-0.03446186 -0.00244959 -0.04598745 -0.02335042 -0.04382647\n",
            "   -0.03220854 -0.02684956 -0.00922513  0.03286992 -0.03494506]\n",
            "  [ 0.04490879  0.01277279  0.03271898  0.03500445  0.02245596\n",
            "   -0.04923625  0.03671182 -0.04704349 -0.04409503  0.03213454]\n",
            "  [-0.00880541 -0.03410824  0.02915524  0.01532366 -0.01350675\n",
            "    0.03886304 -0.02274068  0.00160287  0.02643687  0.04983907]\n",
            "  [ 0.04276799  0.01415167 -0.01122713  0.00730121 -0.02461176\n",
            "   -0.00419279 -0.0116617   0.02846751 -0.00349705 -0.02919614]\n",
            "  [-0.03752183  0.03537891  0.01068152 -0.04940055  0.00524542\n",
            "   -0.04942925  0.00325156  0.03356263 -0.0272705  -0.02081747]]\n",
            "\n",
            " [[-0.035059    0.04403411 -0.00231515  0.01556463  0.01342452\n",
            "   -0.02428705  0.04382536 -0.00162061  0.0293929   0.03303542]\n",
            "  [-0.035059    0.04403411 -0.00231515  0.01556463  0.01342452\n",
            "   -0.02428705  0.04382536 -0.00162061  0.0293929   0.03303542]\n",
            "  [-0.035059    0.04403411 -0.00231515  0.01556463  0.01342452\n",
            "   -0.02428705  0.04382536 -0.00162061  0.0293929   0.03303542]\n",
            "  [-0.035059    0.04403411 -0.00231515  0.01556463  0.01342452\n",
            "   -0.02428705  0.04382536 -0.00162061  0.0293929   0.03303542]\n",
            "  [-0.035059    0.04403411 -0.00231515  0.01556463  0.01342452\n",
            "   -0.02428705  0.04382536 -0.00162061  0.0293929   0.03303542]\n",
            "  [-0.03728256  0.02497411 -0.01573253  0.02967565  0.00100703\n",
            "   -0.0230153  -0.00676191  0.02152551  0.01411403 -0.00279571]\n",
            "  [-0.01191484  0.02722393  0.00830954  0.0002262  -0.04316546\n",
            "    0.02776306 -0.04169949  0.04747928  0.01503501  0.0392631 ]\n",
            "  [-0.02714045 -0.04514071  0.04281105  0.02291251 -0.02454433\n",
            "   -0.00768983 -0.03316258  0.02879527 -0.02252617 -0.01059159]\n",
            "  [-0.01735342 -0.00199579  0.00376595  0.04699588  0.00182436\n",
            "   -0.03371874 -0.04764573 -0.02370503 -0.04563028 -0.03633887]]\n",
            "\n",
            " [[-0.035059    0.04403411 -0.00231515  0.01556463  0.01342452\n",
            "   -0.02428705  0.04382536 -0.00162061  0.0293929   0.03303542]\n",
            "  [-0.035059    0.04403411 -0.00231515  0.01556463  0.01342452\n",
            "   -0.02428705  0.04382536 -0.00162061  0.0293929   0.03303542]\n",
            "  [-0.035059    0.04403411 -0.00231515  0.01556463  0.01342452\n",
            "   -0.02428705  0.04382536 -0.00162061  0.0293929   0.03303542]\n",
            "  [-0.03562839  0.00521716  0.0192288  -0.01612967  0.04289402\n",
            "   -0.00330611  0.04157707 -0.03659555 -0.00373067 -0.00627972]\n",
            "  [ 0.04023192 -0.04643976  0.03549633  0.04291476 -0.02320411\n",
            "   -0.03755325 -0.00210589  0.02453652  0.00254712  0.01776378]\n",
            "  [ 0.04490879  0.01277279  0.03271898  0.03500445  0.02245596\n",
            "   -0.04923625  0.03671182 -0.04704349 -0.04409503  0.03213454]\n",
            "  [-0.03000457  0.02637165 -0.04498795 -0.01663768  0.04382351\n",
            "   -0.01937473  0.02122632  0.0293691   0.03482563 -0.01198149]\n",
            "  [-0.03562839  0.00521716  0.0192288  -0.01612967  0.04289402\n",
            "   -0.00330611  0.04157707 -0.03659555 -0.00373067 -0.00627972]\n",
            "  [-0.01826064 -0.03243768  0.03558575 -0.00767685 -0.04314664\n",
            "    0.04206555  0.01718909 -0.03400721 -0.01340233 -0.04075705]]\n",
            "\n",
            " [[-0.035059    0.04403411 -0.00231515  0.01556463  0.01342452\n",
            "   -0.02428705  0.04382536 -0.00162061  0.0293929   0.03303542]\n",
            "  [-0.035059    0.04403411 -0.00231515  0.01556463  0.01342452\n",
            "   -0.02428705  0.04382536 -0.00162061  0.0293929   0.03303542]\n",
            "  [-0.01661383  0.01805053  0.04575831 -0.00942743  0.00948836\n",
            "    0.00901458 -0.02534469 -0.00471561  0.02608588 -0.01729048]\n",
            "  [-0.00399282 -0.03762769  0.04222167 -0.00604175  0.0240033\n",
            "   -0.00039749  0.02221383 -0.04288193 -0.00216426 -0.00086053]\n",
            "  [-0.0441932   0.00546979 -0.01048888 -0.04898588 -0.0257272\n",
            "   -0.01035405 -0.03194342 -0.02792635 -0.02612022  0.01234152]\n",
            "  [ 0.04490879  0.01277279  0.03271898  0.03500445  0.02245596\n",
            "   -0.04923625  0.03671182 -0.04704349 -0.04409503  0.03213454]\n",
            "  [-0.00880541 -0.03410824  0.02915524  0.01532366 -0.01350675\n",
            "    0.03886304 -0.02274068  0.00160287  0.02643687  0.04983907]\n",
            "  [ 0.04276799  0.01415167 -0.01122713  0.00730121 -0.02461176\n",
            "   -0.00419279 -0.0116617   0.02846751 -0.00349705 -0.02919614]\n",
            "  [-0.03752183  0.03537891  0.01068152 -0.04940055  0.00524542\n",
            "   -0.04942925  0.00325156  0.03356263 -0.0272705  -0.02081747]]\n",
            "\n",
            " [[-0.035059    0.04403411 -0.00231515  0.01556463  0.01342452\n",
            "   -0.02428705  0.04382536 -0.00162061  0.0293929   0.03303542]\n",
            "  [-0.035059    0.04403411 -0.00231515  0.01556463  0.01342452\n",
            "   -0.02428705  0.04382536 -0.00162061  0.0293929   0.03303542]\n",
            "  [-0.035059    0.04403411 -0.00231515  0.01556463  0.01342452\n",
            "   -0.02428705  0.04382536 -0.00162061  0.0293929   0.03303542]\n",
            "  [-0.04018342  0.04380783 -0.03705261 -0.03398202  0.04446172\n",
            "   -0.03893881 -0.0161766   0.02662745 -0.04276861 -0.02116225]\n",
            "  [ 0.04490879  0.01277279  0.03271898  0.03500445  0.02245596\n",
            "   -0.04923625  0.03671182 -0.04704349 -0.04409503  0.03213454]\n",
            "  [-0.00880541 -0.03410824  0.02915524  0.01532366 -0.01350675\n",
            "    0.03886304 -0.02274068  0.00160287  0.02643687  0.04983907]\n",
            "  [-0.0012049   0.03634256  0.02888132 -0.02225189  0.01262543\n",
            "   -0.04468153  0.00380253  0.01303294 -0.00633254 -0.00323952]\n",
            "  [-0.01185659  0.03180187  0.04661656 -0.03392321  0.00510051\n",
            "   -0.03408083 -0.03433283 -0.00078518  0.03591713  0.01855203]\n",
            "  [-0.01621187 -0.04257907  0.00335059 -0.01386962  0.01524011\n",
            "    0.03397245  0.02695662  0.02410007 -0.0028576   0.04490859]]\n",
            "\n",
            " [[-0.03728256  0.02497411 -0.01573253  0.02967565  0.00100703\n",
            "   -0.0230153  -0.00676191  0.02152551  0.01411403 -0.00279571]\n",
            "  [-0.00399282 -0.03762769  0.04222167 -0.00604175  0.0240033\n",
            "   -0.00039749  0.02221383 -0.04288193 -0.00216426 -0.00086053]\n",
            "  [ 0.00395765  0.01991382  0.01507688  0.0006901  -0.04451131\n",
            "   -0.03855184 -0.03723652  0.00354997  0.04433571 -0.04835131]\n",
            "  [-0.03197877 -0.00440445  0.00094199  0.02859775  0.03568412\n",
            "   -0.04570007 -0.0409118  -0.02081333  0.03745116  0.03633804]\n",
            "  [-0.00880541 -0.03410824  0.02915524  0.01532366 -0.01350675\n",
            "    0.03886304 -0.02274068  0.00160287  0.02643687  0.04983907]\n",
            "  [-0.00562064  0.00930619 -0.00864675  0.00135366 -0.01513556\n",
            "   -0.02077707 -0.01608239 -0.02773256 -0.0063772   0.04869146]\n",
            "  [ 0.02462501 -0.02496159 -0.04558103 -0.02982095 -0.04584801\n",
            "    0.03865925 -0.02547963  0.0094028  -0.0030234   0.03772593]\n",
            "  [-0.02080506  0.00838619  0.0070066  -0.03406413  0.0248461\n",
            "   -0.00759202  0.00719853  0.01655352 -0.00054623 -0.0227396 ]\n",
            "  [ 0.02573717 -0.01847985 -0.00272789  0.02773273  0.02040886\n",
            "   -0.01013199  0.0255458  -0.00929333  0.01540979  0.01696605]]]\n"
          ]
        }
      ]
    },
    {
      "cell_type": "code",
      "source": [
        "embedded_docs[0]"
      ],
      "metadata": {
        "colab": {
          "base_uri": "https://localhost:8080/"
        },
        "id": "Ll0q434Mr4mF",
        "outputId": "439e0261-5179-426c-f97d-03495a89838c"
      },
      "execution_count": 20,
      "outputs": [
        {
          "output_type": "execute_result",
          "data": {
            "text/plain": [
              "array([  0,   0,   0, 227,  76, 530, 314, 689, 670], dtype=int32)"
            ]
          },
          "metadata": {},
          "execution_count": 20
        }
      ]
    },
    {
      "cell_type": "code",
      "source": [
        "print(model.predict(embedded_docs)[0])"
      ],
      "metadata": {
        "colab": {
          "base_uri": "https://localhost:8080/"
        },
        "id": "_PUvq7lQr4cD",
        "outputId": "de5982dd-f981-4e7e-b55f-b425b2acee84"
      },
      "execution_count": 21,
      "outputs": [
        {
          "output_type": "stream",
          "name": "stdout",
          "text": [
            "1/1 [==============================] - 0s 17ms/step\n",
            "[[-0.035059    0.04403411 -0.00231515  0.01556463  0.01342452 -0.02428705\n",
            "   0.04382536 -0.00162061  0.0293929   0.03303542]\n",
            " [-0.035059    0.04403411 -0.00231515  0.01556463  0.01342452 -0.02428705\n",
            "   0.04382536 -0.00162061  0.0293929   0.03303542]\n",
            " [-0.035059    0.04403411 -0.00231515  0.01556463  0.01342452 -0.02428705\n",
            "   0.04382536 -0.00162061  0.0293929   0.03303542]\n",
            " [-0.03562839  0.00521716  0.0192288  -0.01612967  0.04289402 -0.00330611\n",
            "   0.04157707 -0.03659555 -0.00373067 -0.00627972]\n",
            " [-0.01198177 -0.00477816 -0.04007648 -0.01684242 -0.03810278 -0.04799842\n",
            "  -0.0241154  -0.0251549  -0.02634882 -0.02636769]\n",
            " [ 0.04490879  0.01277279  0.03271898  0.03500445  0.02245596 -0.04923625\n",
            "   0.03671182 -0.04704349 -0.04409503  0.03213454]\n",
            " [-0.03812807 -0.04719676 -0.04788455 -0.03579825 -0.02163421  0.00143287\n",
            "   0.04497642  0.0415324   0.03567794  0.01500242]\n",
            " [ 0.0226511   0.00958524 -0.02014425  0.03147065  0.02279112  0.03906653\n",
            "  -0.02954812  0.03325755 -0.04951673 -0.024412  ]\n",
            " [-0.00261412  0.04350399  0.03840456 -0.04705643 -0.01124763  0.0119473\n",
            "   0.02782622  0.02098972 -0.04844403 -0.04501213]]\n"
          ]
        }
      ]
    },
    {
      "cell_type": "code",
      "source": [
        ""
      ],
      "metadata": {
        "id": "1DgnZLnQr4S4"
      },
      "execution_count": null,
      "outputs": []
    }
  ]
}